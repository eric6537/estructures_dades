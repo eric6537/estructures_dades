{
 "cells": [
  {
   "cell_type": "markdown",
   "metadata": {},
   "source": [
    "### Exercici 1"
   ]
  },
  {
   "cell_type": "code",
   "execution_count": 91,
   "metadata": {},
   "outputs": [
    {
     "name": "stdout",
     "output_type": "stream",
     "text": [
      "(4, 3)\n"
     ]
    }
   ],
   "source": [
    "import numpy as np\n",
    "trimestres = np.array([[\"Gener\",\"Febrer\",\"Març\"],[\"Abril\",\"Maig\",\"Juny\"],[\"Juliol\",\"Agost\",\"Setembre\"],[\"Octubre\",\"Novembre\",\"Desembre\"]])\n",
    "print(trimestres.shape)"
   ]
  },
  {
   "cell_type": "markdown",
   "metadata": {},
   "source": [
    "### Exercici 2"
   ]
  },
  {
   "cell_type": "code",
   "execution_count": 92,
   "metadata": {},
   "outputs": [
    {
     "name": "stdout",
     "output_type": "stream",
     "text": [
      "Febrer\n",
      "['Gener' 'Febrer' 'Març']\n",
      "Setembre Octubre\n"
     ]
    }
   ],
   "source": [
    "#2n mes del 1r trimestre: Febrer\n",
    "print(trimestres[0,1])\n",
    "\n",
    "#els mesos del 1r trimestre: Gener, Febrer, Març\n",
    "print(trimestres[0,:])\n",
    "\n",
    "#Setembre i Octubre\n",
    "print(trimestres[2,2],trimestres[3,0])"
   ]
  },
  {
   "cell_type": "markdown",
   "metadata": {},
   "source": [
    "### Exercici 3"
   ]
  },
  {
   "cell_type": "code",
   "execution_count": 93,
   "metadata": {},
   "outputs": [
    {
     "name": "stdout",
     "output_type": "stream",
     "text": [
      "[49, 54, 21, 11, 89, 89, 48, 95, 66, 88, 31, 26, 5, 30, 59, 58, 96, 33, 57, 73, 90, 84, 68, 96, 43, 8, 57, 92, 59, 81]\n"
     ]
    }
   ],
   "source": [
    "from numpy import random\n",
    "llista=[]\n",
    "for i in range(30):\n",
    "    x = random.randint(100)\n",
    "    llista.append(x)\n",
    "print(llista)"
   ]
  },
  {
   "cell_type": "code",
   "execution_count": 94,
   "metadata": {},
   "outputs": [
    {
     "name": "stdout",
     "output_type": "stream",
     "text": [
      "Quants números hi ha? 30\n",
      "Quantes vegades apareix el número 3? 0\n",
      "Quantes vegades apareixen els nombres 3 i 4? 0\n",
      "Quin és el número més gran? 96\n",
      "Quins són els 3 números més petits? [5, 8, 11]\n",
      "Quin és el rang d’aquesta llista? 91\n"
     ]
    }
   ],
   "source": [
    "print(\"Quants números hi ha?\",len(llista))\n",
    "\n",
    "print(\"Quantes vegades apareix el número 3?\",llista.count(3))\n",
    "\n",
    "print(\"Quantes vegades apareixen els nombres 3 i 4?\",llista.count(3)+llista.count(4))\n",
    "\n",
    "llista.sort()\n",
    "print(\"Quin és el número més gran?\",llista[-1])\n",
    "\n",
    "noRepetits=[]\n",
    "for i in llista:\n",
    "    if i not in noRepetits and len(noRepetits)<3:\n",
    "        noRepetits.append(i)\n",
    "print(\"Quins són els 3 números més petits?\",noRepetits)\n",
    "\n",
    "print(\"Quin és el rang d’aquesta llista?\", llista[-1]-llista[0])"
   ]
  },
  {
   "cell_type": "markdown",
   "metadata": {},
   "source": [
    "### Exercici 4"
   ]
  },
  {
   "cell_type": "code",
   "execution_count": 95,
   "metadata": {},
   "outputs": [
    {
     "name": "stdout",
     "output_type": "stream",
     "text": [
      "Quant han costat les peres en total? 1.98 €\n",
      "Quantes fruites hem comprat en total? 119\n",
      "Quina és la fruita més cara? Avocat\n"
     ]
    }
   ],
   "source": [
    "compra = { \n",
    "    \"Pomes\" : {\n",
    "        \"Qty\": 5, \n",
    "        \"€\": 0.42\n",
    "    }, \n",
    "    \"Peres\" : {\n",
    "        \"Qty\": 3, \n",
    "        \"€\": 0.66\n",
    "    } \n",
    "}\n",
    "compra[\"Llimones\"] = {\"Qty\":99,\"€\":1.20}\n",
    "compra[\"Plàtan de canaries\"] = {\"Qty\":6,\"€\":2.99}\n",
    "compra[\"Avocat\"]={\"Qty\":2,\"€\":4.99}\n",
    "compra[\"Mango\"]={\"Qty\":4,\"€\":3.59}\n",
    "\n",
    "print(\"Quant han costat les peres en total?\",compra[\"Peres\"][\"Qty\"]*compra[\"Peres\"][\"€\"],\"€\")\n",
    "\n",
    "peces = 0\n",
    "for i in compra:\n",
    "    peces += compra[i][\"Qty\"]\n",
    "print(\"Quantes fruites hem comprat en total?\",peces)\n",
    "\n",
    "x = compra[\"Pomes\"][\"€\"]\n",
    "for i in compra:\n",
    "    if compra[i][\"€\"]>=x:\n",
    "        x = compra[i][\"€\"]\n",
    "        fruita = i\n",
    "print(\"Quina és la fruita més cara?\",fruita)\n"
   ]
  }
 ],
 "metadata": {
  "kernelspec": {
   "display_name": "Python 3",
   "language": "python",
   "name": "python3"
  },
  "language_info": {
   "codemirror_mode": {
    "name": "ipython",
    "version": 3
   },
   "file_extension": ".py",
   "mimetype": "text/x-python",
   "name": "python",
   "nbconvert_exporter": "python",
   "pygments_lexer": "ipython3",
   "version": "3.8.3"
  }
 },
 "nbformat": 4,
 "nbformat_minor": 4
}
